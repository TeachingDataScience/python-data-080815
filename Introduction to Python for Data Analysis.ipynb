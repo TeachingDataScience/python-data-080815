{
 "cells": [
  {
   "cell_type": "markdown",
   "metadata": {},
   "source": [
    "# *Introduction to Python for Data Analysis*"
   ]
  },
  {
   "cell_type": "markdown",
   "metadata": {},
   "source": [
    "# Introductory Exercise:\n",
    "\n",
    "With your best knowledge, write a python script, or write an algorithm in words, that:\n",
    "\n",
    "1. loads a file from a website:\n",
    "https://raw.githubusercontent.com/TeachingDataScience/datasets/master/nyt1.csv\n",
    "\n",
    "2. from that file, counts the number of 1s and 0s under the 'Gender' column, and the number of 1s and 0s under the 'Age' column\n",
    "\n",
    "\n",
    "At a minimum, click on the link, look at the general layout of the data, and write out some notes as to how you'd go about a solution."
   ]
  },
  {
   "cell_type": "markdown",
   "metadata": {},
   "source": [
    "### Solution with Python..."
   ]
  },
  {
   "cell_type": "markdown",
   "metadata": {},
   "source": [
    "### Solution with Pandas..."
   ]
  },
  {
   "cell_type": "markdown",
   "metadata": {},
   "source": [
    "# Prepare Your Environment\n",
    "\n",
    "## Launching a Python Notebook from Domino\n",
    "\n",
    "* Sign in to your dominodatalab.com account\n",
    "* Click on the \"New Project\" button and give your project a name like \"PythonDataWorkshop\", then click \"Create Project\"\n",
    "* You'll be brought to the project overview.  *Click on \"Runs\"*\n",
    "* Click on the \"Notebook\" menu and select \"Python session\"\n",
    "    * You'll see the loading icon and then a message saying \"Notebook Session Ready\"\n",
    "* Once the session has started running, click on the \"Open Notebook\" button\n",
    "    * Your Jupyter notebook will open in a new tab, go to this tab.\n",
    "    * You'll see the Jupyter home page.\n",
    "* Click on \"New\" and select \"Python 2\" under the notebooks section.\n",
    "    * Your new notebook will open.\n",
    "* Click on where it says \"Untitled\" and give your notebook a name like \"My Python for Data Workshop Notes\"My\n",
    "* You're now running a fully functional data science server in the cloud!\n",
    "\n",
    "#### Discussion\n",
    "\n",
    "* What are the advantages of running Python in the cloud?\n",
    "* What are the underlying technologies?\n",
    "    * Amazon EC2\n",
    "    * Jupyter Notebooks\n"
   ]
  },
  {
   "cell_type": "markdown",
   "metadata": {},
   "source": [
    "## Exploring your Environment\n",
    "\n",
    "* User Interface\n",
    "* Keyboard Shortcuts\n",
    "* Notebook Help - Web-based interactive computing system.\n",
    "* Markdown\n",
    "* Python 2.7.10 - An easy to learn, powerful programming language.\n",
    "* iPython - Enhnaced Python Shell, Web-based Notebook, Architecture for Interactive Parallel Computing\n",
    "* NumPy - Fundamental scientific computing library -- multi-dimensional arrays and fast math.\n",
    "* SciPy - Advanced scientific processing built on numpy\n",
    "* Matplotlib - Data visualization engine\n",
    "* SymPy - Symbolic mathematics\n",
    "* pandas: Powerful Python Data Analysis Toolkit"
   ]
  },
  {
   "cell_type": "markdown",
   "metadata": {},
   "source": [
    "## Documenting our Work\n",
    "\n",
    "We'll be using the following practices to take advantage of the various parts of a Jupyter notebook:\n",
    "\n",
    "* the \"code\" cell allows us to run python code. It'll allow us to write multiple lines of code at a time.\n",
    "* the \"markdown\" cell allows us to save text, add images, etc.\n",
    "\n",
    "With these two cell types we'll take notes for the workshop today, using the following steps:\n",
    "\n",
    "1. Always include a markdown cell above code. Write notes how you'd usually write notes related to code below.\n",
    "2. With code, for those completely fresh to programming, we'll be \"commenting through the code.\" That just means for each line of code there will be a python comment that breaks down each line."
   ]
  },
  {
   "cell_type": "markdown",
   "metadata": {},
   "source": [
    "\n",
    "## Let's practice!\n",
    "With the following cell, we'll go through each line first, explain what it's doing, and then include a markdown cell above/below to summarize what was learned.\n"
   ]
  },
  {
   "cell_type": "code",
   "execution_count": null,
   "metadata": {
    "collapsed": false
   },
   "outputs": [],
   "source": [
    "x = 7\n",
    "print x + 5\n",
    "\n",
    "# This is a comment! Comments are super helpful!\n",
    "\n",
    "y = 2\n",
    "print x / y\n",
    "print float(x) / float(y)\n",
    "\n",
    "help(x)"
   ]
  },
  {
   "cell_type": "markdown",
   "metadata": {},
   "source": [
    "# Basic Data Types: Strings, Lists, Tuples\n",
    "\n",
    "Try the same thing on your own to learn about the following python objects: strings, lists, and tuples."
   ]
  },
  {
   "cell_type": "code",
   "execution_count": null,
   "metadata": {
    "collapsed": false
   },
   "outputs": [],
   "source": [
    "some_string1 = 'apples'\n",
    "some_string2 = 'and'\n",
    "some_string3 = 'bananas'\n",
    "print some_string1, some_string2, some_string3\n",
    "print some_string1 + some_string2 + some_string3\n",
    "\n",
    "mutable_list = [\"apple\", \"apple\", \"banana\", \"kiwi\", \"bear\", \"strawberry\", \"strawberry\"]\n",
    "immutable_tuple = (\"apple\", \"apple\", \"banana\", \"kiwi\", \"bear\", \"strawberry\", \"strawberry\")\n",
    "\n",
    "print len(some_string1)\n",
    "print len(mutable_list)\n",
    "print len(immutable_tuple)\n",
    "\n",
    "print some_string1[0:5]\n",
    "print mutable_list[0:4]\n",
    "print immutable_tuple[5:6]\n",
    "\n",
    "try:\n",
    "    some_string1[5] = 'd'\n",
    "except TypeError as e:\n",
    "    print e\n",
    "\n",
    "mutable_list[5] = 'mango'\n",
    "try:\n",
    "    immutable_tuple[5] = 'not going to work'\n",
    "except TypeError as e:\n",
    "    print e\n",
    "\n",
    "a = [3 for i in range(10)]\n",
    "print a"
   ]
  },
  {
   "cell_type": "markdown",
   "metadata": {},
   "source": [
    "# Libraries for Data Science¶\n",
    "Data Scientists use a wide variety of libraries in Python that make working with data significantly easier. Those libraries primarily consist of:\n",
    "\n",
    "\n",
    "    1.numpy\n",
    "    2.scipy\n",
    "    3.pandas\n",
    "    4.matplotlib\n",
    "    5.statsmodels\n",
    "    6.scikit-learn\n",
    "    7.nltk\n",
    "\n",
    "Though there are countless others available.\n",
    "\n",
    "For today, we'll primarily focus ourselves around the library that is 99% of our work: pandas"
   ]
  },
  {
   "cell_type": "markdown",
   "metadata": {},
   "source": [
    "# pandas and object oriented programming¶\n",
    "\n",
    "pandas is a library built on top of numpy, which allows us to use excel-like matrices in the python programming space. These special matrices are called DataFrames, the primary object in pandas.\n",
    "\n",
    "Earlier we loaded up the csv file from our computer; pandas can also parse from a URL."
   ]
  },
  {
   "cell_type": "markdown",
   "metadata": {},
   "source": []
  },
  {
   "cell_type": "code",
   "execution_count": null,
   "metadata": {
    "collapsed": true
   },
   "outputs": [],
   "source": [
    "nyt = pd.read_csv('https://raw.githubusercontent.com/TeachingDataScience/datasets/master/nyt1.csv')\n"
   ]
  },
  {
   "cell_type": "markdown",
   "metadata": {},
   "source": [
    "Like with everything else in python, the DataFrame is an object. We'll use a function called type to identify the object name:"
   ]
  },
  {
   "cell_type": "code",
   "execution_count": null,
   "metadata": {
    "collapsed": false
   },
   "outputs": [],
   "source": [
    "print type(nyt)"
   ]
  },
  {
   "cell_type": "markdown",
   "metadata": {},
   "source": [
    "This translates to:\n",
    "\n",
    "1. Found in the pandas library...\n",
    "2. ... in the core module...\n",
    "3. ... in the frame module...\n",
    "4. ...as a class, DataFrame"
   ]
  },
  {
   "cell_type": "markdown",
   "metadata": {},
   "source": [
    "Objects in python are filled with variables and functions, and we use dot notation to access them.\n",
    "\n",
    "    # object.variable\n",
    "    nyt.dtypes\n",
    "    # object.function()\n",
    "    nyt.describe()\n",
    "\n",
    "One great advantage with iPython is it has *tab completion* which means we can type nyt., press tab, and it'll show us what variables and functions exist.\n",
    "\n",
    "Practice this with the following code cell with the following steps:\n",
    "\n",
    "1. wrap the code with the type function: what data type does it return?\n",
    "2. if it returns an \"instancemethod\" object, try the wrapper with a () to excute the function. What data type does the function return?"
   ]
  },
  {
   "cell_type": "code",
   "execution_count": null,
   "metadata": {
    "collapsed": false
   },
   "outputs": [],
   "source": [
    "# example:\n",
    "print nyt.dtypes\n",
    "nyt.dtypes?\n",
    "print type(nyt.dtypes)"
   ]
  },
  {
   "cell_type": "code",
   "execution_count": null,
   "metadata": {
    "collapsed": true
   },
   "outputs": [],
   "source": [
    "# Try wrapping type with the following:\n",
    "print nyt.describe\n",
    "print nyt.describe()\n",
    "print nyt.shape\n",
    "print nyt.index\n",
    "print nyt.columns\n",
    "print nyt.groupby\n",
    "print nyt.groupby('Age')\n",
    "print nyt.Age"
   ]
  },
  {
   "cell_type": "markdown",
   "metadata": {},
   "source": [
    "# Exercise: early data exploration and pandas syntax\n",
    "\n",
    "Practice the following steps with these 4 data sets located at [http://teachingdatascience.github.io/Rdatasets/datasets.html](http://teachingdatascience.github.io/Rdatasets/datasets.html). \n",
    "\n",
    "Copy the csv link and use that with read_csv to import it.\n",
    "\n"
   ]
  },
  {
   "cell_type": "markdown",
   "metadata": {},
   "source": [
    "### DATA SETS\n",
    "\n",
    "1. chickwts\n",
    "2. infert\n",
    "3. msleep\n",
    "4. Cars93\n",
    "\n",
    "### INSTRUCTIONS\n",
    "\n",
    "1. import the data into python using pd.read_csv()\n",
    "2. call the dtypes variable to identify the columns and their data types.\n",
    "3. call the describe function to collect statistics about numerical data types.\n",
    "4. for each other column (object columns):use \n",
    "    * ```dataframe['column'].unique() ```  and\n",
    "    * ```dataframe.groupby('column')['column'].count()```\n",
    "5. Write a short markdown that describes the data set and its columns."
   ]
  },
  {
   "cell_type": "markdown",
   "metadata": {},
   "source": [
    "# Data Munging basics with pandas"
   ]
  },
  {
   "cell_type": "markdown",
   "metadata": {},
   "source": [
    "What interesting data point do we learn when we run the following code?"
   ]
  },
  {
   "cell_type": "code",
   "execution_count": null,
   "metadata": {
    "collapsed": false
   },
   "outputs": [],
   "source": [
    "print nyt.groupby(['Signed_In', 'Gender']).Age.describe()"
   ]
  },
  {
   "cell_type": "markdown",
   "metadata": {},
   "source": [
    "\n",
    "In the Signed_In 0 group, we notice both Age and Gender are also always 0. We know this by:"
   ]
  },
  {
   "cell_type": "markdown",
   "metadata": {},
   "source": [
    "* In the Signed_In 0 group, there is only one Gender group as well in the DataFrame Index (0)\n",
    "* the min/max age for Signed_in group 0 is also 0."
   ]
  },
  {
   "cell_type": "markdown",
   "metadata": {},
   "source": [
    "This intuitively makes sense when working with marketing data: if a user is not logged in, you likely do not know their age or gender either.\n",
    "\n",
    "Data does not always come in forms that we expect, so it is generally a requirement for us to work through a process called \"data munging,\" which is the process of extracting and cleaning up a data set. Given that, we will explore the basics of data munging and aggregation:\n",
    "\n",
    "* Filter\n",
    "* Sort\n",
    "* Select and Unique\n",
    "* Mutate and Transform\n",
    "* Pivot and Aggregate\n",
    "\n",
    "Much of this fits into the Split-Apply-Combine strategy of data analysis, popularized by Hadley Wickham's R package plyr (and later, dplyr). In fact, many of these concepts are shared between R and pandas, the primary difference being the syntax.\n",
    "\n",
    "While we go through each of these examples, take good notes, comment through the code, and write questions that we can come back to."
   ]
  },
  {
   "cell_type": "markdown",
   "metadata": {},
   "source": [
    "## Filter\n",
    "\n",
    "\n",
    "Say we want to only focus on our marketing analysis on users we have data for--after all, it'd be easier to target users to convert on ads if we have a target demographic that performs well. Earlier we used a filtering command that finds rows that return True."
   ]
  },
  {
   "cell_type": "code",
   "execution_count": null,
   "metadata": {
    "collapsed": false
   },
   "outputs": [],
   "source": [
    "nyt_signedin_only = nyt[nyt.Signed_In == 1]\n",
    "nyt_signedin_only = nyt[nyt['Signed_In'] == 1]\n",
    "nyt_signedin_only.groupby('Gender').describe()"
   ]
  },
  {
   "cell_type": "markdown",
   "metadata": {},
   "source": [
    "\n",
    "Practice filtering for the following:\n",
    "\n",
    "* rows where age is less than 30\n",
    "* rows where gender is 0 but signed_in is 1\n",
    "* rows where age is less than 30 or more than 60."
   ]
  },
  {
   "cell_type": "markdown",
   "metadata": {},
   "source": [
    "## Selecting Rows, Columns, and Finding Uniques\n",
    "\n",
    "Earlier we selected columns (or a list of columns) using key notation (like with dictionaries). Pandas also accepts dot notation (akin to an object mapper, or javascript object notation).\n",
    "\n",
    "To select rows based on the index, we can use `.ix[]`, which accepts either keys (when the index is a string) or a range (when the index is integer based). (pandas does allow more specific typing, `loc` and `iloc`)\n",
    "\n",
    "Otherwise, passing a range in will do fine."
   ]
  },
  {
   "cell_type": "code",
   "execution_count": null,
   "metadata": {
    "collapsed": false
   },
   "outputs": [],
   "source": [
    "# Finding the first ten rows\n",
    "print nyt[0:10]\n",
    "\n",
    "# This will still return the first ten rows\n",
    "print nyt.set_index('Age')[0:10]\n",
    "\n",
    "# Since the index is positional, this will also return the first 10 rows.\n",
    "print nyt.ix[0:10]\n",
    "\n",
    "# This first one will work fine, as it returns back all rows where Age == 40.\n",
    "# The second will fail, as .ix does not treat the index as positional, when the index does not represent the row order.\n",
    "print nyt.set_index('Age').ix[40]\n",
    "try:\n",
    "    print nyt.set_index('Age').ix[40:45]\n",
    "except Exception as e:\n",
    "    print e.message\n",
    "\n",
    "# Using dot notation and returning uniques of that column\n",
    "print nyt.Age.head()\n",
    "print nyt.Age.unique()"
   ]
  },
  {
   "cell_type": "markdown",
   "metadata": {},
   "source": [
    "## Mutate, Transform (apply)\n",
    "\n",
    "There are three most common techniques in mutating or transforming the data.\n",
    "\n",
    "One approach would be to directly use values from other columns to derive new columns. The other would be to apply functions to columns using a named or lambda function.\n",
    "\n",
    "You can generate the new columns by defining their name as a key."
   ]
  },
  {
   "cell_type": "code",
   "execution_count": null,
   "metadata": {
    "collapsed": true
   },
   "outputs": [],
   "source": [
    "nyt['column_of_ones'] = 1\n",
    "\n",
    "nyt['saw_ad_many_times'] = nyt['Impressions'].apply(lambda x: 1 if x > 5 else 0)\n",
    "\n",
    "def saw_add_func(x):\n",
    "    if x > 5:\n",
    "        return 1\n",
    "    else:\n",
    "        return 0\n",
    "\n",
    "nyt['saw_ad_many_times'] = nyt['Impressions'].apply(saw_add_func)\n",
    "\n",
    "# practice on one column: \n",
    "# a common approach to missing data, let's either set the values to null, or -1:\n",
    "# import numpy as np\n",
    "# np.nan\n",
    "\n",
    "\n",
    "# by default apply works with a single column, however you can use it to iterate by row as well (though it is slower)\n",
    "nyt['not_signed_in'] = nyt.apply(lambda row: 0 if row['Signed_In'] else 1, axis=1)"
   ]
  },
  {
   "cell_type": "markdown",
   "metadata": {},
   "source": [
    "## Pivot and Aggregate\n",
    "\n",
    "Earlier we saw use of the function groupby. A pandas groupby object has other functionality, such as returning statistics about a column, or all columns, or aggregating only what's defined.\n",
    "\n",
    "Similarly, pivot tables can be used to explore groups side by side."
   ]
  },
  {
   "cell_type": "code",
   "execution_count": null,
   "metadata": {
    "collapsed": true
   },
   "outputs": [],
   "source": [
    "# import numpy as np\n",
    "nyt['column_of_ones'] = 1\n",
    "nyt['Click_Thru'] = nyt['Clicks'] / nyt['Impressions']\n",
    "nyt['Click_Thru'] = nyt['Click_Thru'].apply(lambda x: 0 if x == np.inf else x)\n",
    "nyt_signedin_only = nyt[nyt.Signed_In == 1]\n",
    "nyt_group = nyt.groupby('Age')\n",
    "\n",
    "print nyt_group.mean()"
   ]
  },
  {
   "cell_type": "code",
   "execution_count": null,
   "metadata": {
    "collapsed": true
   },
   "outputs": [],
   "source": [
    "print nyt_group['Click_Thru'].mean()\n"
   ]
  },
  {
   "cell_type": "code",
   "execution_count": null,
   "metadata": {
    "collapsed": true
   },
   "outputs": [],
   "source": [
    "print nyt_group.agg({\n",
    "    'Click_Thru': ['mean', 'max'],\n",
    "    'Gender': 'mean',\n",
    "})"
   ]
  },
  {
   "cell_type": "code",
   "execution_count": null,
   "metadata": {
    "collapsed": true
   },
   "outputs": [],
   "source": [
    "print nyt[nyt.Signed_In == 1].pivot_table(\n",
    "    values='column_of_ones',\n",
    "    index='Gender',\n",
    "    columns='Age',\n",
    "    aggfunc='count'\n",
    ")"
   ]
  },
  {
   "cell_type": "markdown",
   "metadata": {},
   "source": [
    "Practice:\n",
    "\n",
    "1. Aggregate the mean and standard deviation (std) of Age when Signed_In equals 1\n",
    "2. Find the min values of Age for each value of Impressions\n",
    "3. Find the max values of Clicks for each value of Impressions\n",
    "4. Determine: Are Signed In users more or less likely to click thru on an ad?"
   ]
  },
  {
   "cell_type": "markdown",
   "metadata": {},
   "source": [
    "# Plotting\n",
    "\n",
    "matplotlib's core functionality serves as a plotting tool within python. While calling .describe() on DataFrames is useful to get a rough idea of what your data looks like, plots allow you to visualize what your data really looks like. For today, we'll use matplotlib within the context of pandas.\n",
    "\n",
    "Consider the following data set and code:"
   ]
  },
  {
   "cell_type": "code",
   "execution_count": null,
   "metadata": {
    "collapsed": false
   },
   "outputs": [],
   "source": [
    "anscombe = pd.DataFrame({\n",
    "    'x' :  [10, 8, 13, 9, 11, 14, 6, 4, 12, 7, 5],\n",
    "    'y1' : [8.04, 6.95, 7.58, 8.81, 8.33, 9.96, 7.24, 4.26, 10.84, 4.82, 5.68],\n",
    "    'y2' : [9.14, 8.14, 8.74, 8.77, 9.26, 8.10, 6.13, 3.10, 9.13, 7.26, 4.74],\n",
    "    'y3' : [7.46, 6.77, 12.74, 7.11, 7.81, 8.84, 6.08, 5.39, 8.15, 6.42, 5.73],\n",
    "    'x4' : [8,8,8,8,8,8,8,19,8,8,8],\n",
    "    'y4' : [6.58,5.76,7.71,8.84,8.47,7.04,5.25,12.50,5.56,7.91,6.89],\n",
    "})\n",
    "\n",
    "anscombe.describe()"
   ]
  },
  {
   "cell_type": "markdown",
   "metadata": {},
   "source": [
    "\n",
    "Visually from creating the data frame you can tell the data looks different, yet in the .describe() call, the data shares very similar features. The two primary plotting tools we uses from matplotlib are histograms and scatterplots, which help us understand the shape of data."
   ]
  },
  {
   "cell_type": "code",
   "execution_count": null,
   "metadata": {
    "collapsed": false
   },
   "outputs": [],
   "source": [
    "%matplotlib inline\n",
    "# above magic allows plots to show in our notebook.\n",
    "\n",
    "for y in ['y1', 'y2', 'y3', 'y4']:\n",
    "    if y != 'y4':\n",
    "        print anscombe.plot(kind='scatter', x='x', y=y)\n",
    "    else:\n",
    "        print anscombe.plot(kind='scatter', x='x4', y=y)"
   ]
  },
  {
   "cell_type": "markdown",
   "metadata": {},
   "source": [
    "Use these new tools in order to visualize some of this New York Times ad performance data."
   ]
  },
  {
   "cell_type": "code",
   "execution_count": null,
   "metadata": {
    "collapsed": false
   },
   "outputs": [],
   "source": [
    "nyt[nyt.Signed_In == 1].Age.hist()\n"
   ]
  },
  {
   "cell_type": "code",
   "execution_count": null,
   "metadata": {
    "collapsed": false
   },
   "outputs": [],
   "source": [
    "print nyt[nyt.Signed_In == 1].Clicks.hist()"
   ]
  },
  {
   "cell_type": "code",
   "execution_count": null,
   "metadata": {
    "collapsed": false
   },
   "outputs": [],
   "source": [
    "nyt.describe()"
   ]
  },
  {
   "cell_type": "code",
   "execution_count": null,
   "metadata": {
    "collapsed": false
   },
   "outputs": [],
   "source": [
    "nyt['Click_Thru'] = nyt['Clicks'] / nyt['Impressions']\n",
    "nyt[nyt.Signed_In == 1].plot(kind='scatter', x='Age', y='Click_Thru')\n"
   ]
  },
  {
   "cell_type": "markdown",
   "metadata": {},
   "source": [
    "# Independent Practice"
   ]
  },
  {
   "cell_type": "markdown",
   "metadata": {},
   "source": [
    "Practice doing much of the same functionality we did today with two of the four different data sets from the repo above in small groups of 3 or 4.\n",
    "\n",
    "Primarily, your goals are to:\n",
    "\n",
    "* Show how to load a csv file into python\n",
    "* Use pandas to understand the numerical portions of the data\n",
    "* Use matplotlib to visualize the data\n",
    "* Use scikit-learn to fit the data to some dependent feature (y)\n",
    "\n",
    "Summarise your work with the following questions:\n",
    "\n",
    "1. What is the dataset about? What do the columns mean?\n",
    "2. What does the dataset look like?\n",
    "3. What data relationships can you find?\n",
    "4. Given those relationships/correlations, what does that help explain or help you understand about the data?\n",
    "\n",
    "We will come back as a class and have each group present their answers to the above to one of the data sets they explored."
   ]
  },
  {
   "cell_type": "markdown",
   "metadata": {},
   "source": [
    "# Next Steps"
   ]
  },
  {
   "cell_type": "markdown",
   "metadata": {},
   "source": [
    "I encourage you to pick up and start reading the following books to continue learning about programming and data analytics.\n",
    "\n",
    "**Still uncomfortable with Python?**\n",
    "\n",
    "That's okay! Continue practicing your python basics with [Learn Python the Hard Way](http://learnpythonthehardway.org/book/). It'll strengthen your chops. Do it multiple times—you'll keep learning!\n",
    "\n",
    "** Feel like Pandas can revolutionize how you work? **\n",
    "\n",
    "Purchase and read Wes McKinney's [Python for Data Analysis](http://shop.oreilly.com/product/0636920023784.do). It'll get you cranking on everything Wes did with Pandas and why it was designed the way it was.\n",
    "\n",
    "** Want to dig into why Data Science?** \n",
    "\n",
    "Check out Provost and Fawcett's [Data Science for Business](http://www.amazon.com/Data-Science-Business-data-analytic-thinking/dp/1449361323). You'll start understanding more about the business practice of Data Science (vs the academic side) and some fundamentals about algorithm and stats application."
   ]
  }
 ],
 "metadata": {
  "kernelspec": {
   "display_name": "Python 2",
   "language": "python",
   "name": "python2"
  },
  "language_info": {
   "codemirror_mode": {
    "name": "ipython",
    "version": 2
   },
   "file_extension": ".py",
   "mimetype": "text/x-python",
   "name": "python",
   "nbconvert_exporter": "python",
   "pygments_lexer": "ipython2",
   "version": "2.7.6"
  }
 },
 "nbformat": 4,
 "nbformat_minor": 0
}
