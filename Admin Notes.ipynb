{
 "cells": [
  {
   "cell_type": "markdown",
   "metadata": {},
   "source": [
    "## Solution using the CSV Library"
   ]
  },
  {
   "cell_type": "code",
   "execution_count": null,
   "metadata": {
    "collapsed": true
   },
   "outputs": [],
   "source": [
    "# Copy the file \n",
    "!curl https://raw.githubusercontent.com/TeachingDataScience/datasets/master/nyt1.csv > nyt1.csv\n"
   ]
  },
  {
   "cell_type": "code",
   "execution_count": null,
   "metadata": {
    "collapsed": false
   },
   "outputs": [],
   "source": [
    "# %load nytimes_counter.py\n",
    "\n",
    "# Import required libraries\n",
    "import csv\n",
    "\n",
    "# Start a counter and store the textfile in memory\n",
    "gender_counter = {}\n",
    "age_counter = {}\n",
    "\n",
    "lines = csv.reader(open('nyt1.csv'))\n",
    "lines.next()\n",
    "\n",
    "# For each line, fill in the counters\n",
    "for line in lines:\n",
    "    age, gender, impressions, clicks, signed_in = line\n",
    "    if str(gender) not in gender_counter:\n",
    "        gender_counter[gender] = 0\n",
    "    gender_counter[gender] += 1\n",
    "    if str(age) not in age_counter:\n",
    "        age_counter[age] = 0\n",
    "    age_counter[age] += 1\n",
    "    \n",
    "print \"Gender 0: \", gender_counter['0']\n",
    "print \"Gender 1: \", gender_counter['1']\n",
    "print \"Ages: \"\n",
    "print age_counter"
   ]
  },
  {
   "cell_type": "code",
   "execution_count": 4,
   "metadata": {
    "collapsed": false
   },
   "outputs": [
    {
     "name": "stdout",
     "output_type": "stream",
     "text": [
      "Gender 0:  290176\r\n",
      "Gender 1:  168265\r\n",
      "Ages: \r\n",
      "{'24': 3158, '25': 3260, '26': 6405, '27': 6551, '20': 6337, '21': 6384, '22': 6394, '23': 6488, '28': 6359, '29': 6379, '0': 137106, '8': 15, '59': 4900, '58': 4916, '55': 2502, '54': 3515, '57': 5014, '56': 5034, '51': 7147, '50': 6982, '53': 7231, '52': 7165, '88': 155, '89': 128, '82': 548, '83': 483, '80': 751, '81': 618, '86': 228, '87': 211, '84': 369, '85': 298, '7': 5, '108': 1, '102': 2, '103': 2, '100': 4, '101': 4, '107': 2, '104': 1, '39': 7804, '38': 7891, '33': 6431, '32': 6443, '31': 6439, '30': 6617, '37': 7983, '36': 7933, '35': 3932, '34': 3290, '60': 4880, '61': 5012, '62': 5006, '63': 4950, '64': 2524, '65': 1067, '66': 2355, '67': 2250, '68': 2299, '69': 2015, '99': 9, '98': 15, '91': 72, '90': 106, '93': 42, '92': 66, '95': 35, '94': 49, '97': 14, '96': 27, '11': 283, '10': 113, '13': 1059, '12': 586, '15': 2605, '14': 1718, '17': 3953, '16': 3443, '19': 6509, '18': 5424, '48': 7277, '49': 7054, '46': 7202, '47': 7070, '44': 4006, '45': 3645, '42': 7919, '43': 7784, '40': 7702, '41': 7906, '9': 48, '77': 1161, '76': 1257, '75': 1473, '74': 1481, '73': 1681, '72': 1820, '71': 1860, '70': 2033, '79': 825, '78': 936}\r\n"
     ]
    }
   ],
   "source": [
    "# Run the file\n",
    "!python nytimes_counter.py"
   ]
  },
  {
   "cell_type": "markdown",
   "metadata": {},
   "source": [
    "*Note: Using %load allows a file to be loaded for running in the notebook*\n"
   ]
  },
  {
   "cell_type": "markdown",
   "metadata": {},
   "source": [
    "## Solution using Pandas"
   ]
  },
  {
   "cell_type": "code",
   "execution_count": 5,
   "metadata": {
    "collapsed": true
   },
   "outputs": [
    {
     "name": "stdout",
     "output_type": "stream",
     "text": [
      "Gender 0:  290176\n",
      "Gender 1:  168265\n",
      "Age\n",
      "0      137106\n",
      "7           5\n",
      "8          15\n",
      "9          48\n",
      "10        113\n",
      "11        283\n",
      "12        586\n",
      "13       1059\n",
      "14       1718\n",
      "15       2605\n",
      "16       3443\n",
      "17       3953\n",
      "18       5424\n",
      "19       6509\n",
      "20       6337\n",
      "21       6384\n",
      "22       6394\n",
      "23       6488\n",
      "24       3158\n",
      "25       3260\n",
      "26       6405\n",
      "27       6551\n",
      "28       6359\n",
      "29       6379\n",
      "30       6617\n",
      "31       6439\n",
      "32       6443\n",
      "33       6431\n",
      "34       3290\n",
      "35       3932\n",
      "        ...  \n",
      "77       1161\n",
      "78        936\n",
      "79        825\n",
      "80        751\n",
      "81        618\n",
      "82        548\n",
      "83        483\n",
      "84        369\n",
      "85        298\n",
      "86        228\n",
      "87        211\n",
      "88        155\n",
      "89        128\n",
      "90        106\n",
      "91         72\n",
      "92         66\n",
      "93         42\n",
      "94         49\n",
      "95         35\n",
      "96         27\n",
      "97         14\n",
      "98         15\n",
      "99          9\n",
      "100         4\n",
      "101         4\n",
      "102         2\n",
      "103         2\n",
      "104         1\n",
      "107         2\n",
      "108         1\n",
      "Name: Age, dtype: int64\n"
     ]
    }
   ],
   "source": [
    "import pandas as pd\n",
    "\n",
    "fileurl = \"https://raw.githubusercontent.com/TeachingDataScience/datasets/master/nyt1.csv\"\n",
    "\n",
    "nyt = pd.read_csv(fileurl)\n",
    "\n",
    "print \"Gender 0: \", len(nyt[nyt.Gender == 0])\n",
    "print \"Gender 1: \", len(nyt[nyt.Gender == 1])\n",
    "print nyt.groupby('Age').Age.count()"
   ]
  },
  {
   "cell_type": "markdown",
   "metadata": {},
   "source": [
    "*Note: How would we make this re-usable?*"
   ]
  }
 ],
 "metadata": {
  "kernelspec": {
   "display_name": "Python 2",
   "language": "python",
   "name": "python2"
  },
  "language_info": {
   "codemirror_mode": {
    "name": "ipython",
    "version": 2
   },
   "file_extension": ".py",
   "mimetype": "text/x-python",
   "name": "python",
   "nbconvert_exporter": "python",
   "pygments_lexer": "ipython2",
   "version": "2.7.6"
  }
 },
 "nbformat": 4,
 "nbformat_minor": 0
}
