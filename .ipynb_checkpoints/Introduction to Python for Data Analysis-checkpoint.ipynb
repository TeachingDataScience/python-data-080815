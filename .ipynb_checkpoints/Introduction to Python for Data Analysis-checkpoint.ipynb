{
 "cells": [
  {
   "cell_type": "markdown",
   "metadata": {},
   "source": [
    "# *Introduction to Python for Data Analysis*"
   ]
  },
  {
   "cell_type": "markdown",
   "metadata": {},
   "source": [
    "# Introductory Exercise:\n",
    "\n",
    "With your best knowledge, write a python script, or write an algorithm in words, that:\n",
    "\n",
    "1. loads a file from a website:\n",
    "https://raw.githubusercontent.com/TeachingDataScience/datasets/master/nyt1.csv\n",
    "\n",
    "2. from that file, counts the number of 1s and 0s under the 'Gender' column, and the number of 1s and 0s under the 'Age' column\n",
    "\n",
    "\n",
    "At a minimum, click on the link, look at the general layout of the data, and write out some notes as to how you'd go about a solution."
   ]
  },
  {
   "cell_type": "markdown",
   "metadata": {},
   "source": [
    "### Solution with Python..."
   ]
  },
  {
   "cell_type": "markdown",
   "metadata": {},
   "source": [
    "### Solution with Pandas..."
   ]
  },
  {
   "cell_type": "markdown",
   "metadata": {},
   "source": [
    "# Prepare Your Environment\n",
    "\n",
    "## Launching a Python Notebook from Domino\n",
    "\n",
    "* Sign in to your dominodatalab.com account\n",
    "* Click on the \"New Project\" button and give your project a name like \"PythonDataWorkshop\", then click \"Create Project\"\n",
    "* You'll be brought to the project overview.  *Click on \"Runs\"*\n",
    "* Click on the \"Notebook\" menu and select \"Python session\"\n",
    "    * You'll see the loading icon and then a message saying \"Notebook Session Ready\"\n",
    "* Once the session has started running, click on the \"Open Notebook\" button\n",
    "    * Your Jupyter notebook will open in a new tab, go to this tab.\n",
    "    * You'll see the Jupyter home page.\n",
    "* Click on \"New\" and select \"Python 2\" under the notebooks section.\n",
    "    * Your new notebook will open.\n",
    "* Click on where it says \"Untitled\" and give your notebook a name like \"My Python for Data Workshop Notes\"My\n",
    "* You're now running a fully functional data science server in the cloud!\n",
    "\n",
    "#### Discussion\n",
    "\n",
    "* What are the advantages of running Python in the cloud?\n",
    "* What are the underlying technologies?\n",
    "    * Amazon EC2\n",
    "    * Jupyter Notebooks\n"
   ]
  },
  {
   "cell_type": "markdown",
   "metadata": {},
   "source": [
    "## Exploring your Environment\n",
    "\n",
    "* User Interface\n",
    "* Keyboard Shortcuts\n",
    "* Notebook Help - Web-based interactive computing system.\n",
    "* Markdown\n",
    "* Python 2.7.10 - An easy to learn, powerful programming language.\n",
    "* iPython - Enhnaced Python Shell, Web-based Notebook, Architecture for Interactive Parallel Computing\n",
    "* NumPy - Fundamental scientific computing library -- multi-dimensional arrays and fast math.\n",
    "* SciPy - Advanced scientific processing built on numpy\n",
    "* Matplotlib - Data visualization engine\n",
    "* SymPy - Symbolic mathematics\n",
    "* pandas: Powerful Python Data Analysis Toolkit"
   ]
  },
  {
   "cell_type": "markdown",
   "metadata": {},
   "source": [
    "## Documenting our Work\n",
    "\n",
    "We'll be using the following practices to take advantage of the various parts of a Jupyter notebook:\n",
    "\n",
    "* the \"code\" cell allows us to run python code. It'll allow us to write multiple lines of code at a time.\n",
    "* the \"markdown\" cell allows us to save text, add images, etc.\n",
    "\n",
    "With these two cell types we'll take notes for the workshop today, using the following steps:\n",
    "\n",
    "1. Always include a markdown cell above code. Write notes how you'd usually write notes related to code below.\n",
    "2. With code, for those completely fresh to programming, we'll be \"commenting through the code.\" That just means for each line of code there will be a python comment that breaks down each line."
   ]
  },
  {
   "cell_type": "markdown",
   "metadata": {},
   "source": [
    "\n",
    "## Let's practice!\n",
    "With the following cell, we'll go through each line first, explain what it's doing, and then include a markdown cell above/below to summarize what was learned.\n"
   ]
  },
  {
   "cell_type": "code",
   "execution_count": 30,
   "metadata": {
    "collapsed": true
   },
   "outputs": [
    {
     "name": "stdout",
     "output_type": "stream",
     "text": [
      "12\n",
      "3\n",
      "3.5\n",
      "Help on int object:\n",
      "\n",
      "class int(object)\n",
      " |  int(x=0) -> int or long\n",
      " |  int(x, base=10) -> int or long\n",
      " |  \n",
      " |  Convert a number or string to an integer, or return 0 if no arguments\n",
      " |  are given.  If x is floating point, the conversion truncates towards zero.\n",
      " |  If x is outside the integer range, the function returns a long instead.\n",
      " |  \n",
      " |  If x is not a number or if base is given, then x must be a string or\n",
      " |  Unicode object representing an integer literal in the given base.  The\n",
      " |  literal can be preceded by '+' or '-' and be surrounded by whitespace.\n",
      " |  The base defaults to 10.  Valid bases are 0 and 2-36.  Base 0 means to\n",
      " |  interpret the base from the string as an integer literal.\n",
      " |  >>> int('0b100', base=0)\n",
      " |  4\n",
      " |  \n",
      " |  Methods defined here:\n",
      " |  \n",
      " |  __abs__(...)\n",
      " |      x.__abs__() <==> abs(x)\n",
      " |  \n",
      " |  __add__(...)\n",
      " |      x.__add__(y) <==> x+y\n",
      " |  \n",
      " |  __and__(...)\n",
      " |      x.__and__(y) <==> x&y\n",
      " |  \n",
      " |  __cmp__(...)\n",
      " |      x.__cmp__(y) <==> cmp(x,y)\n",
      " |  \n",
      " |  __coerce__(...)\n",
      " |      x.__coerce__(y) <==> coerce(x, y)\n",
      " |  \n",
      " |  __div__(...)\n",
      " |      x.__div__(y) <==> x/y\n",
      " |  \n",
      " |  __divmod__(...)\n",
      " |      x.__divmod__(y) <==> divmod(x, y)\n",
      " |  \n",
      " |  __float__(...)\n",
      " |      x.__float__() <==> float(x)\n",
      " |  \n",
      " |  __floordiv__(...)\n",
      " |      x.__floordiv__(y) <==> x//y\n",
      " |  \n",
      " |  __format__(...)\n",
      " |  \n",
      " |  __getattribute__(...)\n",
      " |      x.__getattribute__('name') <==> x.name\n",
      " |  \n",
      " |  __getnewargs__(...)\n",
      " |  \n",
      " |  __hash__(...)\n",
      " |      x.__hash__() <==> hash(x)\n",
      " |  \n",
      " |  __hex__(...)\n",
      " |      x.__hex__() <==> hex(x)\n",
      " |  \n",
      " |  __index__(...)\n",
      " |      x[y:z] <==> x[y.__index__():z.__index__()]\n",
      " |  \n",
      " |  __int__(...)\n",
      " |      x.__int__() <==> int(x)\n",
      " |  \n",
      " |  __invert__(...)\n",
      " |      x.__invert__() <==> ~x\n",
      " |  \n",
      " |  __long__(...)\n",
      " |      x.__long__() <==> long(x)\n",
      " |  \n",
      " |  __lshift__(...)\n",
      " |      x.__lshift__(y) <==> x<<y\n",
      " |  \n",
      " |  __mod__(...)\n",
      " |      x.__mod__(y) <==> x%y\n",
      " |  \n",
      " |  __mul__(...)\n",
      " |      x.__mul__(y) <==> x*y\n",
      " |  \n",
      " |  __neg__(...)\n",
      " |      x.__neg__() <==> -x\n",
      " |  \n",
      " |  __nonzero__(...)\n",
      " |      x.__nonzero__() <==> x != 0\n",
      " |  \n",
      " |  __oct__(...)\n",
      " |      x.__oct__() <==> oct(x)\n",
      " |  \n",
      " |  __or__(...)\n",
      " |      x.__or__(y) <==> x|y\n",
      " |  \n",
      " |  __pos__(...)\n",
      " |      x.__pos__() <==> +x\n",
      " |  \n",
      " |  __pow__(...)\n",
      " |      x.__pow__(y[, z]) <==> pow(x, y[, z])\n",
      " |  \n",
      " |  __radd__(...)\n",
      " |      x.__radd__(y) <==> y+x\n",
      " |  \n",
      " |  __rand__(...)\n",
      " |      x.__rand__(y) <==> y&x\n",
      " |  \n",
      " |  __rdiv__(...)\n",
      " |      x.__rdiv__(y) <==> y/x\n",
      " |  \n",
      " |  __rdivmod__(...)\n",
      " |      x.__rdivmod__(y) <==> divmod(y, x)\n",
      " |  \n",
      " |  __repr__(...)\n",
      " |      x.__repr__() <==> repr(x)\n",
      " |  \n",
      " |  __rfloordiv__(...)\n",
      " |      x.__rfloordiv__(y) <==> y//x\n",
      " |  \n",
      " |  __rlshift__(...)\n",
      " |      x.__rlshift__(y) <==> y<<x\n",
      " |  \n",
      " |  __rmod__(...)\n",
      " |      x.__rmod__(y) <==> y%x\n",
      " |  \n",
      " |  __rmul__(...)\n",
      " |      x.__rmul__(y) <==> y*x\n",
      " |  \n",
      " |  __ror__(...)\n",
      " |      x.__ror__(y) <==> y|x\n",
      " |  \n",
      " |  __rpow__(...)\n",
      " |      y.__rpow__(x[, z]) <==> pow(x, y[, z])\n",
      " |  \n",
      " |  __rrshift__(...)\n",
      " |      x.__rrshift__(y) <==> y>>x\n",
      " |  \n",
      " |  __rshift__(...)\n",
      " |      x.__rshift__(y) <==> x>>y\n",
      " |  \n",
      " |  __rsub__(...)\n",
      " |      x.__rsub__(y) <==> y-x\n",
      " |  \n",
      " |  __rtruediv__(...)\n",
      " |      x.__rtruediv__(y) <==> y/x\n",
      " |  \n",
      " |  __rxor__(...)\n",
      " |      x.__rxor__(y) <==> y^x\n",
      " |  \n",
      " |  __str__(...)\n",
      " |      x.__str__() <==> str(x)\n",
      " |  \n",
      " |  __sub__(...)\n",
      " |      x.__sub__(y) <==> x-y\n",
      " |  \n",
      " |  __truediv__(...)\n",
      " |      x.__truediv__(y) <==> x/y\n",
      " |  \n",
      " |  __trunc__(...)\n",
      " |      Truncating an Integral returns itself.\n",
      " |  \n",
      " |  __xor__(...)\n",
      " |      x.__xor__(y) <==> x^y\n",
      " |  \n",
      " |  bit_length(...)\n",
      " |      int.bit_length() -> int\n",
      " |      \n",
      " |      Number of bits necessary to represent self in binary.\n",
      " |      >>> bin(37)\n",
      " |      '0b100101'\n",
      " |      >>> (37).bit_length()\n",
      " |      6\n",
      " |  \n",
      " |  conjugate(...)\n",
      " |      Returns self, the complex conjugate of any int.\n",
      " |  \n",
      " |  ----------------------------------------------------------------------\n",
      " |  Data descriptors defined here:\n",
      " |  \n",
      " |  denominator\n",
      " |      the denominator of a rational number in lowest terms\n",
      " |  \n",
      " |  imag\n",
      " |      the imaginary part of a complex number\n",
      " |  \n",
      " |  numerator\n",
      " |      the numerator of a rational number in lowest terms\n",
      " |  \n",
      " |  real\n",
      " |      the real part of a complex number\n",
      " |  \n",
      " |  ----------------------------------------------------------------------\n",
      " |  Data and other attributes defined here:\n",
      " |  \n",
      " |  __new__ = <built-in method __new__ of type object>\n",
      " |      T.__new__(S, ...) -> a new object with type S, a subtype of T\n",
      "\n"
     ]
    }
   ],
   "source": [
    "x = 7\n",
    "print x + 5\n",
    "\n",
    "# This is a comment! Comments are super helpful!\n",
    "\n",
    "y = 2\n",
    "print x / y\n",
    "print float(x) / float(y)\n",
    "\n",
    "help(x)"
   ]
  },
  {
   "cell_type": "markdown",
   "metadata": {},
   "source": [
    "# Basic Data Types: Strings, Lists, Tuples\n",
    "\n",
    "Try the same thing on your own to learn about the following python objects: strings, lists, and tuples."
   ]
  },
  {
   "cell_type": "code",
   "execution_count": 34,
   "metadata": {
    "collapsed": false
   },
   "outputs": [
    {
     "name": "stdout",
     "output_type": "stream",
     "text": [
      "apples and bananas\n",
      "applesandbananas\n",
      "6\n",
      "7\n",
      "7\n",
      "apple\n",
      "['apple', 'apple', 'banana', 'kiwi']\n",
      "('strawberry',)\n",
      "'str' object does not support item assignment\n",
      "'tuple' object does not support item assignment\n",
      "[3, 3, 3, 3, 3, 3, 3, 3, 3, 3]\n"
     ]
    }
   ],
   "source": [
    "some_string1 = 'apples'\n",
    "some_string2 = 'and'\n",
    "some_string3 = 'bananas'\n",
    "print some_string1, some_string2, some_string3\n",
    "print some_string1 + some_string2 + some_string3\n",
    "\n",
    "mutable_list = [\"apple\", \"apple\", \"banana\", \"kiwi\", \"bear\", \"strawberry\", \"strawberry\"]\n",
    "immutable_tuple = (\"apple\", \"apple\", \"banana\", \"kiwi\", \"bear\", \"strawberry\", \"strawberry\")\n",
    "\n",
    "print len(some_string1)\n",
    "print len(mutable_list)\n",
    "print len(immutable_tuple)\n",
    "\n",
    "print some_string1[0:5]\n",
    "print mutable_list[0:4]\n",
    "print immutable_tuple[5:6]\n",
    "\n",
    "try:\n",
    "    some_string1[5] = 'd'\n",
    "except TypeError as e:\n",
    "    print e\n",
    "\n",
    "mutable_list[5] = 'mango'\n",
    "try:\n",
    "    immutable_tuple[5] = 'not going to work'\n",
    "except TypeError as e:\n",
    "    print e\n",
    "\n",
    "a = [3 for i in range(10)]\n",
    "print a"
   ]
  },
  {
   "cell_type": "markdown",
   "metadata": {},
   "source": [
    "# Libraries for Data Science¶\n",
    "Data Scientists use a wide variety of libraries in Python that make working with data significantly easier. Those libraries primarily consist of:\n",
    "\n",
    "\n",
    "    1.numpy\n",
    "    2.scipy\n",
    "    3.pandas\n",
    "    4.matplotlib\n",
    "    5.statsmodels\n",
    "    6.scikit-learn\n",
    "    7.nltk\n",
    "\n",
    "Though there are countless others available.\n",
    "\n",
    "For today, we'll primarily focus ourselves around the library that is 99% of our work: pandas"
   ]
  },
  {
   "cell_type": "markdown",
   "metadata": {},
   "source": [
    "# pandas and object oriented programming¶\n",
    "\n",
    "pandas is a library built on top of numpy, which allows us to use excel-like matrices in the python programming space. These special matrices are called DataFrames, the primary object in pandas.\n",
    "\n",
    "Earlier we loaded up the csv file from our computer; pandas can also parse from a URL."
   ]
  },
  {
   "cell_type": "markdown",
   "metadata": {},
   "source": []
  },
  {
   "cell_type": "code",
   "execution_count": 35,
   "metadata": {
    "collapsed": true
   },
   "outputs": [],
   "source": [
    "nyt = pd.read_csv('https://raw.githubusercontent.com/TeachingDataScience/datasets/master/nyt1.csv')\n"
   ]
  },
  {
   "cell_type": "markdown",
   "metadata": {},
   "source": [
    "Like with everything else in python, the DataFrame is an object. We'll use a function called type to identify the object name:"
   ]
  },
  {
   "cell_type": "code",
   "execution_count": 36,
   "metadata": {
    "collapsed": false
   },
   "outputs": [
    {
     "name": "stdout",
     "output_type": "stream",
     "text": [
      "<class 'pandas.core.frame.DataFrame'>\n"
     ]
    }
   ],
   "source": [
    "print type(nyt)"
   ]
  },
  {
   "cell_type": "markdown",
   "metadata": {},
   "source": [
    "This translates to:\n",
    "\n",
    "1. Found in the pandas library...\n",
    "2. ... in the core module...\n",
    "3. ... in the frame module...\n",
    "4. ...as a class, DataFrame"
   ]
  },
  {
   "cell_type": "markdown",
   "metadata": {},
   "source": [
    "Objects in python are filled with variables and functions, and we use dot notation to access them.\n",
    "\n",
    "    # object.variable\n",
    "    nyt.dtypes\n",
    "    # object.function()\n",
    "    nyt.describe()\n",
    "\n",
    "One great advantage with iPython is it has *tab completion* which means we can type nyt., press tab, and it'll show us what variables and functions exist.\n",
    "\n",
    "Practice this with the following code cell with the following steps:\n",
    "\n",
    "1. wrap the code with the type function: what data type does it return?\n",
    "2. if it returns an \"instancemethod\" object, try the wrapper with a () to excute the function. What data type does the function return?"
   ]
  },
  {
   "cell_type": "code",
   "execution_count": 37,
   "metadata": {
    "collapsed": false
   },
   "outputs": [
    {
     "name": "stdout",
     "output_type": "stream",
     "text": [
      "Age            int64\n",
      "Gender         int64\n",
      "Impressions    int64\n",
      "Clicks         int64\n",
      "Signed_In      int64\n",
      "dtype: object\n",
      "<class 'pandas.core.series.Series'>\n"
     ]
    }
   ],
   "source": [
    "# example:\n",
    "print nyt.dtypes\n",
    "nyt.dtypes?\n",
    "print type(nyt.dtypes)"
   ]
  },
  {
   "cell_type": "code",
   "execution_count": 38,
   "metadata": {
    "collapsed": true
   },
   "outputs": [
    {
     "name": "stdout",
     "output_type": "stream",
     "text": [
      "<bound method DataFrame.describe of         Age  Gender  Impressions  Clicks  Signed_In\n",
      "0        36       0            3       0          1\n",
      "1        73       1            3       0          1\n",
      "2        30       0            3       0          1\n",
      "3        49       1            3       0          1\n",
      "4        47       1           11       0          1\n",
      "5        47       0           11       1          1\n",
      "6         0       0            7       1          0\n",
      "7        46       0            5       0          1\n",
      "8        16       0            3       0          1\n",
      "9        52       0            4       0          1\n",
      "10        0       0            8       1          0\n",
      "11       21       0            3       0          1\n",
      "12        0       0            4       0          0\n",
      "13       57       0            6       0          1\n",
      "14       31       0            5       0          1\n",
      "15        0       0            6       0          0\n",
      "16       40       1            3       0          1\n",
      "17       31       1            5       0          1\n",
      "18       38       0            4       0          1\n",
      "19        0       0            5       0          0\n",
      "20       59       1            4       0          1\n",
      "21       61       0            6       0          1\n",
      "22       48       0            7       0          1\n",
      "23       29       1            2       0          1\n",
      "24        0       0            4       0          0\n",
      "25       19       1            4       0          1\n",
      "26       19       0            3       0          1\n",
      "27       48       1            9       0          1\n",
      "28       48       1            4       0          1\n",
      "29       21       1            5       0          1\n",
      "...     ...     ...          ...     ...        ...\n",
      "458411   55       1            2       0          1\n",
      "458412   68       1            7       0          1\n",
      "458413    0       0            7       1          0\n",
      "458414   21       0            5       0          1\n",
      "458415   35       0            6       0          1\n",
      "458416   26       1            6       0          1\n",
      "458417   41       0           11       0          1\n",
      "458418   58       1            4       0          1\n",
      "458419   46       1            5       0          1\n",
      "458420   45       0           11       0          1\n",
      "458421   46       1            4       0          1\n",
      "458422   47       0            6       0          1\n",
      "458423   22       1            8       0          1\n",
      "458424   21       0           10       0          1\n",
      "458425   40       1            6       0          1\n",
      "458426   49       0            9       0          1\n",
      "458427   43       1            9       0          1\n",
      "458428   40       1            4       0          1\n",
      "458429   49       1           11       0          1\n",
      "458430    0       0            6       0          0\n",
      "458431   21       1            5       0          1\n",
      "458432   30       0            4       0          1\n",
      "458433   21       1            2       0          1\n",
      "458434   61       1            6       0          1\n",
      "458435   51       0            7       0          1\n",
      "458436    0       0            2       0          0\n",
      "458437    0       0            4       0          0\n",
      "458438   72       1            5       0          1\n",
      "458439    0       0            5       0          0\n",
      "458440    0       0            3       0          0\n",
      "\n",
      "[458441 rows x 5 columns]>\n",
      "                 Age         Gender    Impressions         Clicks  \\\n",
      "count  458441.000000  458441.000000  458441.000000  458441.000000   \n",
      "mean       29.482551       0.367037       5.007316       0.092594   \n",
      "std        23.607034       0.481997       2.239349       0.309973   \n",
      "min         0.000000       0.000000       0.000000       0.000000   \n",
      "25%         0.000000       0.000000       3.000000       0.000000   \n",
      "50%        31.000000       0.000000       5.000000       0.000000   \n",
      "75%        48.000000       1.000000       6.000000       0.000000   \n",
      "max       108.000000       1.000000      20.000000       4.000000   \n",
      "\n",
      "           Signed_In  \n",
      "count  458441.000000  \n",
      "mean        0.700930  \n",
      "std         0.457851  \n",
      "min         0.000000  \n",
      "25%         0.000000  \n",
      "50%         1.000000  \n",
      "75%         1.000000  \n",
      "max         1.000000  \n",
      "(458441, 5)\n",
      "Int64Index([     0,      1,      2,      3,      4,      5,      6,      7,\n",
      "                 8,      9, \n",
      "            ...\n",
      "            458431, 458432, 458433, 458434, 458435, 458436, 458437, 458438,\n",
      "            458439, 458440],\n",
      "           dtype='int64', length=458441)\n",
      "Index([u'Age', u'Gender', u'Impressions', u'Clicks', u'Signed_In'], dtype='object')\n",
      "<bound method DataFrame.groupby of         Age  Gender  Impressions  Clicks  Signed_In\n",
      "0        36       0            3       0          1\n",
      "1        73       1            3       0          1\n",
      "2        30       0            3       0          1\n",
      "3        49       1            3       0          1\n",
      "4        47       1           11       0          1\n",
      "5        47       0           11       1          1\n",
      "6         0       0            7       1          0\n",
      "7        46       0            5       0          1\n",
      "8        16       0            3       0          1\n",
      "9        52       0            4       0          1\n",
      "10        0       0            8       1          0\n",
      "11       21       0            3       0          1\n",
      "12        0       0            4       0          0\n",
      "13       57       0            6       0          1\n",
      "14       31       0            5       0          1\n",
      "15        0       0            6       0          0\n",
      "16       40       1            3       0          1\n",
      "17       31       1            5       0          1\n",
      "18       38       0            4       0          1\n",
      "19        0       0            5       0          0\n",
      "20       59       1            4       0          1\n",
      "21       61       0            6       0          1\n",
      "22       48       0            7       0          1\n",
      "23       29       1            2       0          1\n",
      "24        0       0            4       0          0\n",
      "25       19       1            4       0          1\n",
      "26       19       0            3       0          1\n",
      "27       48       1            9       0          1\n",
      "28       48       1            4       0          1\n",
      "29       21       1            5       0          1\n",
      "...     ...     ...          ...     ...        ...\n",
      "458411   55       1            2       0          1\n",
      "458412   68       1            7       0          1\n",
      "458413    0       0            7       1          0\n",
      "458414   21       0            5       0          1\n",
      "458415   35       0            6       0          1\n",
      "458416   26       1            6       0          1\n",
      "458417   41       0           11       0          1\n",
      "458418   58       1            4       0          1\n",
      "458419   46       1            5       0          1\n",
      "458420   45       0           11       0          1\n",
      "458421   46       1            4       0          1\n",
      "458422   47       0            6       0          1\n",
      "458423   22       1            8       0          1\n",
      "458424   21       0           10       0          1\n",
      "458425   40       1            6       0          1\n",
      "458426   49       0            9       0          1\n",
      "458427   43       1            9       0          1\n",
      "458428   40       1            4       0          1\n",
      "458429   49       1           11       0          1\n",
      "458430    0       0            6       0          0\n",
      "458431   21       1            5       0          1\n",
      "458432   30       0            4       0          1\n",
      "458433   21       1            2       0          1\n",
      "458434   61       1            6       0          1\n",
      "458435   51       0            7       0          1\n",
      "458436    0       0            2       0          0\n",
      "458437    0       0            4       0          0\n",
      "458438   72       1            5       0          1\n",
      "458439    0       0            5       0          0\n",
      "458440    0       0            3       0          0\n",
      "\n",
      "[458441 rows x 5 columns]>\n",
      "<pandas.core.groupby.DataFrameGroupBy object at 0x7f71c46ed910>\n",
      "0         36\n",
      "1         73\n",
      "2         30\n",
      "3         49\n",
      "4         47\n",
      "5         47\n",
      "6          0\n",
      "7         46\n",
      "8         16\n",
      "9         52\n",
      "10         0\n",
      "11        21\n",
      "12         0\n",
      "13        57\n",
      "14        31\n",
      "15         0\n",
      "16        40\n",
      "17        31\n",
      "18        38\n",
      "19         0\n",
      "20        59\n",
      "21        61\n",
      "22        48\n",
      "23        29\n",
      "24         0\n",
      "25        19\n",
      "26        19\n",
      "27        48\n",
      "28        48\n",
      "29        21\n",
      "          ..\n",
      "458411    55\n",
      "458412    68\n",
      "458413     0\n",
      "458414    21\n",
      "458415    35\n",
      "458416    26\n",
      "458417    41\n",
      "458418    58\n",
      "458419    46\n",
      "458420    45\n",
      "458421    46\n",
      "458422    47\n",
      "458423    22\n",
      "458424    21\n",
      "458425    40\n",
      "458426    49\n",
      "458427    43\n",
      "458428    40\n",
      "458429    49\n",
      "458430     0\n",
      "458431    21\n",
      "458432    30\n",
      "458433    21\n",
      "458434    61\n",
      "458435    51\n",
      "458436     0\n",
      "458437     0\n",
      "458438    72\n",
      "458439     0\n",
      "458440     0\n",
      "Name: Age, dtype: int64\n"
     ]
    }
   ],
   "source": [
    "# Try wrapping type with the following:\n",
    "print nyt.describe\n",
    "print nyt.describe()\n",
    "print nyt.shape\n",
    "print nyt.index\n",
    "print nyt.columns\n",
    "print nyt.groupby\n",
    "print nyt.groupby('Age')\n",
    "print nyt.Age"
   ]
  },
  {
   "cell_type": "markdown",
   "metadata": {},
   "source": [
    "# Exercise: early data exploration and pandas syntax\n",
    "\n",
    "Practice the following steps with these 4 data sets located at [http://teachingdatascience.github.io/Rdatasets/datasets.html](http://teachingdatascience.github.io/Rdatasets/datasets.html). \n",
    "\n",
    "Copy the csv link and use that with read_csv to import it.\n",
    "\n"
   ]
  },
  {
   "cell_type": "markdown",
   "metadata": {},
   "source": [
    "### DATA SETS\n",
    "\n",
    "1. chickwts\n",
    "2. infert\n",
    "3. msleep\n",
    "4. Cars93\n",
    "\n",
    "### INSTRUCTIONS\n",
    "\n",
    "1. import the data into python using pd.read_csv()\n",
    "2. call the dtypes variable to identify the columns and their data types.\n",
    "3. call the describe function to collect statistics about numerical data types.\n",
    "4. for each other column (object columns):use \n",
    "    * ```dataframe['column'].unique() ```  and\n",
    "    * ```dataframe.groupby('column')['column'].count()```\n",
    "5. Write a short markdown that describes the data set and its columns."
   ]
  },
  {
   "cell_type": "markdown",
   "metadata": {},
   "source": [
    "# Data Munging basics with pandas"
   ]
  },
  {
   "cell_type": "markdown",
   "metadata": {},
   "source": [
    "What interesting data point do we learn when we run the following code?"
   ]
  },
  {
   "cell_type": "code",
   "execution_count": 72,
   "metadata": {
    "collapsed": false
   },
   "outputs": [
    {
     "name": "stdout",
     "output_type": "stream",
     "text": [
      "Signed_In  Gender       \n",
      "0          0       count    137106.000000\n",
      "                   mean          0.000000\n",
      "                   std           0.000000\n",
      "                   min           0.000000\n",
      "                   25%           0.000000\n",
      "                   50%           0.000000\n",
      "                   75%           0.000000\n",
      "                   max           0.000000\n",
      "1          0       count    153070.000000\n",
      "                   mean         43.423336\n",
      "                   std          16.763906\n",
      "                   min           7.000000\n",
      "                   25%          30.000000\n",
      "                   50%          42.000000\n",
      "                   75%          55.000000\n",
      "                   max         108.000000\n",
      "           1       count    168265.000000\n",
      "                   mean         40.823701\n",
      "                   std          15.780505\n",
      "                   min           7.000000\n",
      "                   25%          28.000000\n",
      "                   50%          40.000000\n",
      "                   75%          52.000000\n",
      "                   max         107.000000\n",
      "dtype: float64\n"
     ]
    }
   ],
   "source": [
    "print nyt.groupby(['Signed_In', 'Gender']).Age.describe()"
   ]
  },
  {
   "cell_type": "markdown",
   "metadata": {},
   "source": [
    "\n",
    "In the Signed_In 0 group, we notice both Age and Gender are also always 0. We know this by:"
   ]
  },
  {
   "cell_type": "markdown",
   "metadata": {},
   "source": [
    "* In the Signed_In 0 group, there is only one Gender group as well in the DataFrame Index (0)\n",
    "* the min/max age for Signed_in group 0 is also 0."
   ]
  },
  {
   "cell_type": "markdown",
   "metadata": {},
   "source": [
    "This intuitively makes sense when working with marketing data: if a user is not logged in, you likely do not know their age or gender either.\n",
    "\n",
    "Data does not always come in forms that we expect, so it is generally a requirement for us to work through a process called \"data munging,\" which is the process of extracting and cleaning up a data set. Given that, we will explore the basics of data munging and aggregation:\n",
    "\n",
    "* Filter\n",
    "* Sort\n",
    "* Select and Unique\n",
    "* Mutate and Transform\n",
    "* Pivot and Aggregate\n",
    "\n",
    "Much of this fits into the Split-Apply-Combine strategy of data analysis, popularized by Hadley Wickham's R package plyr (and later, dplyr). In fact, many of these concepts are shared between R and pandas, the primary difference being the syntax.\n",
    "\n",
    "While we go through each of these examples, take good notes, comment through the code, and write questions that we can come back to."
   ]
  },
  {
   "cell_type": "markdown",
   "metadata": {},
   "source": [
    "## Filter\n",
    "\n",
    "\n",
    "Say we want to only focus on our marketing analysis on users we have data for--after all, it'd be easier to target users to convert on ads if we have a target demographic that performs well. Earlier we used a filtering command that finds rows that return True."
   ]
  },
  {
   "cell_type": "code",
   "execution_count": 75,
   "metadata": {
    "collapsed": false
   },
   "outputs": [
    {
     "data": {
      "text/html": [
       "<div style=\"max-height:1000px;max-width:1500px;overflow:auto;\">\n",
       "<table border=\"1\" class=\"dataframe\">\n",
       "  <thead>\n",
       "    <tr style=\"text-align: right;\">\n",
       "      <th></th>\n",
       "      <th></th>\n",
       "      <th>Age</th>\n",
       "      <th>Clicks</th>\n",
       "      <th>Impressions</th>\n",
       "      <th>Signed_In</th>\n",
       "    </tr>\n",
       "    <tr>\n",
       "      <th>Gender</th>\n",
       "      <th></th>\n",
       "      <th></th>\n",
       "      <th></th>\n",
       "      <th></th>\n",
       "      <th></th>\n",
       "    </tr>\n",
       "  </thead>\n",
       "  <tbody>\n",
       "    <tr>\n",
       "      <th rowspan=\"8\" valign=\"top\">0</th>\n",
       "      <th>count</th>\n",
       "      <td>153070.000000</td>\n",
       "      <td>153070.000000</td>\n",
       "      <td>153070.000000</td>\n",
       "      <td>153070</td>\n",
       "    </tr>\n",
       "    <tr>\n",
       "      <th>mean</th>\n",
       "      <td>43.423336</td>\n",
       "      <td>0.073117</td>\n",
       "      <td>5.012733</td>\n",
       "      <td>1</td>\n",
       "    </tr>\n",
       "    <tr>\n",
       "      <th>std</th>\n",
       "      <td>16.763906</td>\n",
       "      <td>0.271194</td>\n",
       "      <td>2.238426</td>\n",
       "      <td>0</td>\n",
       "    </tr>\n",
       "    <tr>\n",
       "      <th>min</th>\n",
       "      <td>7.000000</td>\n",
       "      <td>0.000000</td>\n",
       "      <td>0.000000</td>\n",
       "      <td>1</td>\n",
       "    </tr>\n",
       "    <tr>\n",
       "      <th>25%</th>\n",
       "      <td>30.000000</td>\n",
       "      <td>0.000000</td>\n",
       "      <td>3.000000</td>\n",
       "      <td>1</td>\n",
       "    </tr>\n",
       "    <tr>\n",
       "      <th>50%</th>\n",
       "      <td>42.000000</td>\n",
       "      <td>0.000000</td>\n",
       "      <td>5.000000</td>\n",
       "      <td>1</td>\n",
       "    </tr>\n",
       "    <tr>\n",
       "      <th>75%</th>\n",
       "      <td>55.000000</td>\n",
       "      <td>0.000000</td>\n",
       "      <td>6.000000</td>\n",
       "      <td>1</td>\n",
       "    </tr>\n",
       "    <tr>\n",
       "      <th>max</th>\n",
       "      <td>108.000000</td>\n",
       "      <td>3.000000</td>\n",
       "      <td>17.000000</td>\n",
       "      <td>1</td>\n",
       "    </tr>\n",
       "    <tr>\n",
       "      <th rowspan=\"8\" valign=\"top\">1</th>\n",
       "      <th>count</th>\n",
       "      <td>168265.000000</td>\n",
       "      <td>168265.000000</td>\n",
       "      <td>168265.000000</td>\n",
       "      <td>168265</td>\n",
       "    </tr>\n",
       "    <tr>\n",
       "      <th>mean</th>\n",
       "      <td>40.823701</td>\n",
       "      <td>0.069991</td>\n",
       "      <td>5.008629</td>\n",
       "      <td>1</td>\n",
       "    </tr>\n",
       "    <tr>\n",
       "      <th>std</th>\n",
       "      <td>15.780505</td>\n",
       "      <td>0.266324</td>\n",
       "      <td>2.239114</td>\n",
       "      <td>0</td>\n",
       "    </tr>\n",
       "    <tr>\n",
       "      <th>min</th>\n",
       "      <td>7.000000</td>\n",
       "      <td>0.000000</td>\n",
       "      <td>0.000000</td>\n",
       "      <td>1</td>\n",
       "    </tr>\n",
       "    <tr>\n",
       "      <th>25%</th>\n",
       "      <td>28.000000</td>\n",
       "      <td>0.000000</td>\n",
       "      <td>3.000000</td>\n",
       "      <td>1</td>\n",
       "    </tr>\n",
       "    <tr>\n",
       "      <th>50%</th>\n",
       "      <td>40.000000</td>\n",
       "      <td>0.000000</td>\n",
       "      <td>5.000000</td>\n",
       "      <td>1</td>\n",
       "    </tr>\n",
       "    <tr>\n",
       "      <th>75%</th>\n",
       "      <td>52.000000</td>\n",
       "      <td>0.000000</td>\n",
       "      <td>6.000000</td>\n",
       "      <td>1</td>\n",
       "    </tr>\n",
       "    <tr>\n",
       "      <th>max</th>\n",
       "      <td>107.000000</td>\n",
       "      <td>3.000000</td>\n",
       "      <td>20.000000</td>\n",
       "      <td>1</td>\n",
       "    </tr>\n",
       "  </tbody>\n",
       "</table>\n",
       "</div>"
      ],
      "text/plain": [
       "                        Age         Clicks    Impressions  Signed_In\n",
       "Gender                                                              \n",
       "0      count  153070.000000  153070.000000  153070.000000     153070\n",
       "       mean       43.423336       0.073117       5.012733          1\n",
       "       std        16.763906       0.271194       2.238426          0\n",
       "       min         7.000000       0.000000       0.000000          1\n",
       "       25%        30.000000       0.000000       3.000000          1\n",
       "       50%        42.000000       0.000000       5.000000          1\n",
       "       75%        55.000000       0.000000       6.000000          1\n",
       "       max       108.000000       3.000000      17.000000          1\n",
       "1      count  168265.000000  168265.000000  168265.000000     168265\n",
       "       mean       40.823701       0.069991       5.008629          1\n",
       "       std        15.780505       0.266324       2.239114          0\n",
       "       min         7.000000       0.000000       0.000000          1\n",
       "       25%        28.000000       0.000000       3.000000          1\n",
       "       50%        40.000000       0.000000       5.000000          1\n",
       "       75%        52.000000       0.000000       6.000000          1\n",
       "       max       107.000000       3.000000      20.000000          1"
      ]
     },
     "execution_count": 75,
     "metadata": {},
     "output_type": "execute_result"
    }
   ],
   "source": [
    "nyt_signedin_only = nyt[nyt.Signed_In == 1]\n",
    "nyt_signedin_only = nyt[nyt['Signed_In'] == 1]\n",
    "nyt_signedin_only.groupby('Gender').describe()"
   ]
  },
  {
   "cell_type": "markdown",
   "metadata": {},
   "source": [
    "\n",
    "Practice filtering for the following:\n",
    "\n",
    "* rows where age is less than 30\n",
    "* rows where gender is 0 but signed_in is 1\n",
    "* rows where age is less than 30 or more than 60."
   ]
  },
  {
   "cell_type": "markdown",
   "metadata": {},
   "source": [
    "## Selecting Rows, Columns, and Finding Uniques\n",
    "\n",
    "Earlier we selected columns (or a list of columns) using key notation (like with dictionaries). Pandas also accepts dot notation (akin to an object mapper, or javascript object notation).\n",
    "\n",
    "To select rows based on the index, we can use `.ix[]`, which accepts either keys (when the index is a string) or a range (when the index is integer based). (pandas does allow more specific typing, `loc` and `iloc`)\n",
    "\n",
    "Otherwise, passing a range in will do fine."
   ]
  },
  {
   "cell_type": "code",
   "execution_count": 77,
   "metadata": {
    "collapsed": false
   },
   "outputs": [
    {
     "name": "stdout",
     "output_type": "stream",
     "text": [
      "   Age  Gender  Impressions  Clicks  Signed_In\n",
      "0   36       0            3       0          1\n",
      "1   73       1            3       0          1\n",
      "2   30       0            3       0          1\n",
      "3   49       1            3       0          1\n",
      "4   47       1           11       0          1\n",
      "5   47       0           11       1          1\n",
      "6    0       0            7       1          0\n",
      "7   46       0            5       0          1\n",
      "8   16       0            3       0          1\n",
      "9   52       0            4       0          1\n",
      "     Gender  Impressions  Clicks  Signed_In\n",
      "Age                                        \n",
      "36        0            3       0          1\n",
      "73        1            3       0          1\n",
      "30        0            3       0          1\n",
      "49        1            3       0          1\n",
      "47        1           11       0          1\n",
      "47        0           11       1          1\n",
      "0         0            7       1          0\n",
      "46        0            5       0          1\n",
      "16        0            3       0          1\n",
      "52        0            4       0          1\n",
      "    Age  Gender  Impressions  Clicks  Signed_In\n",
      "0    36       0            3       0          1\n",
      "1    73       1            3       0          1\n",
      "2    30       0            3       0          1\n",
      "3    49       1            3       0          1\n",
      "4    47       1           11       0          1\n",
      "5    47       0           11       1          1\n",
      "6     0       0            7       1          0\n",
      "7    46       0            5       0          1\n",
      "8    16       0            3       0          1\n",
      "9    52       0            4       0          1\n",
      "10    0       0            8       1          0\n",
      "     Gender  Impressions  Clicks  Signed_In\n",
      "Age                                        \n",
      "40        1            3       0          1\n",
      "40        1            3       0          1\n",
      "40        0            3       0          1\n",
      "40        1            7       0          1\n",
      "40        1            9       0          1\n",
      "40        1            6       0          1\n",
      "40        1            9       0          1\n",
      "40        0            4       0          1\n",
      "40        0            5       0          1\n",
      "40        0            6       0          1\n",
      "40        0            3       0          1\n",
      "40        1            8       0          1\n",
      "40        0            2       0          1\n",
      "40        0            4       0          1\n",
      "40        1            6       0          1\n",
      "40        1            6       0          1\n",
      "40        1            4       0          1\n",
      "40        0            2       0          1\n",
      "40        0            8       0          1\n",
      "40        1            2       0          1\n",
      "40        1            4       0          1\n",
      "40        0            5       0          1\n",
      "40        0            2       0          1\n",
      "40        0            2       0          1\n",
      "40        1            4       0          1\n",
      "40        0            7       0          1\n",
      "40        1            8       0          1\n",
      "40        1           11       0          1\n",
      "40        1            2       0          1\n",
      "40        1            3       0          1\n",
      "..      ...          ...     ...        ...\n",
      "40        1            5       0          1\n",
      "40        0           11       0          1\n",
      "40        1            9       0          1\n",
      "40        0            4       0          1\n",
      "40        1            3       0          1\n",
      "40        1            5       0          1\n",
      "40        1            8       0          1\n",
      "40        1            8       0          1\n",
      "40        1            3       0          1\n",
      "40        1            2       0          1\n",
      "40        1            3       0          1\n",
      "40        0            4       0          1\n",
      "40        0            2       0          1\n",
      "40        1            3       0          1\n",
      "40        0            7       0          1\n",
      "40        1            7       0          1\n",
      "40        0            4       0          1\n",
      "40        0            1       0          1\n",
      "40        0            5       0          1\n",
      "40        0            3       0          1\n",
      "40        0            2       0          1\n",
      "40        1            6       0          1\n",
      "40        1            3       0          1\n",
      "40        1           11       0          1\n",
      "40        1            4       0          1\n",
      "40        1            6       0          1\n",
      "40        1            2       0          1\n",
      "40        1            6       0          1\n",
      "40        1            6       0          1\n",
      "40        1            4       0          1\n",
      "\n",
      "[7702 rows x 4 columns]\n",
      "Cannot get left slice bound for non-unique label: 40\n",
      "0    36\n",
      "1    73\n",
      "2    30\n",
      "3    49\n",
      "4    47\n",
      "Name: Age, dtype: int64\n",
      "[ 36  73  30  49  47   0  46  16  52  21  57  31  40  38  59  61  48  29\n",
      "  19  23  66  44  32  22  74  65  63  35  33  34  43  18  17  62  27  11\n",
      "  42  41  14  64  24  26  39  71  45  28  83  79  67  51  60  58  53  25\n",
      "  50  76  15  78  55  37  56  77  85  82  13  70  84  54  20  10  81  68\n",
      "  72  69  87  80  88  12  86  75  89   9  96 102  98  90  99  91  92  95\n",
      "   8  94  93  97   7 100 103 107 101 108 104]\n"
     ]
    }
   ],
   "source": [
    "# Finding the first ten rows\n",
    "print nyt[0:10]\n",
    "\n",
    "# This will still return the first ten rows\n",
    "print nyt.set_index('Age')[0:10]\n",
    "\n",
    "# Since the index is positional, this will also return the first 10 rows.\n",
    "print nyt.ix[0:10]\n",
    "\n",
    "# This first one will work fine, as it returns back all rows where Age == 40.\n",
    "# The second will fail, as .ix does not treat the index as positional, when the index does not represent the row order.\n",
    "print nyt.set_index('Age').ix[40]\n",
    "try:\n",
    "    print nyt.set_index('Age').ix[40:45]\n",
    "except Exception as e:\n",
    "    print e.message\n",
    "\n",
    "# Using dot notation and returning uniques of that column\n",
    "print nyt.Age.head()\n",
    "print nyt.Age.unique()"
   ]
  },
  {
   "cell_type": "markdown",
   "metadata": {},
   "source": [
    "## Mutate, Transform (apply)\n",
    "\n",
    "There are three most common techniques in mutating or transforming the data.\n",
    "\n",
    "One approach would be to directly use values from other columns to derive new columns. The other would be to apply functions to columns using a named or lambda function.\n",
    "\n",
    "You can generate the new columns by defining their name as a key."
   ]
  },
  {
   "cell_type": "code",
   "execution_count": null,
   "metadata": {
    "collapsed": true
   },
   "outputs": [],
   "source": [
    "nyt['column_of_ones'] = 1\n",
    "\n",
    "nyt['saw_ad_many_times'] = nyt['Impressions'].apply(lambda x: 1 if x > 5 else 0)\n",
    "\n",
    "def saw_add_func(x):\n",
    "    if x > 5:\n",
    "        return 1\n",
    "    else:\n",
    "        return 0\n",
    "\n",
    "nyt['saw_ad_many_times'] = nyt['Impressions'].apply(saw_add_func)\n",
    "\n",
    "# practice on one column: \n",
    "# a common approach to missing data, let's either set the values to null, or -1:\n",
    "# import numpy as np\n",
    "# np.nan\n",
    "\n",
    "\n",
    "# by default apply works with a single column, however you can use it to iterate by row as well (though it is slower)\n",
    "nyt['not_signed_in'] = nyt.apply(lambda row: 0 if row['Signed_In'] else 1, axis=1)"
   ]
  },
  {
   "cell_type": "markdown",
   "metadata": {},
   "source": [
    "## Pivot and Aggregate\n",
    "\n",
    "Earlier we saw use of the function groupby. A pandas groupby object has other functionality, such as returning statistics about a column, or all columns, or aggregating only what's defined.\n",
    "\n",
    "Similarly, pivot tables can be used to explore groups side by side."
   ]
  },
  {
   "cell_type": "code",
   "execution_count": null,
   "metadata": {
    "collapsed": true
   },
   "outputs": [],
   "source": [
    "# import numpy as np\n",
    "nyt['column_of_ones'] = 1\n",
    "nyt['Click_Thru'] = nyt['Clicks'] / nyt['Impressions']\n",
    "nyt['Click_Thru'] = nyt['Click_Thru'].apply(lambda x: 0 if x == np.inf else x)\n",
    "nyt_signedin_only = nyt[nyt.Signed_In == 1]\n",
    "nyt_group = nyt.groupby('Age')\n",
    "\n",
    "print nyt_group.mean()"
   ]
  },
  {
   "cell_type": "code",
   "execution_count": null,
   "metadata": {
    "collapsed": true
   },
   "outputs": [],
   "source": [
    "print nyt_group['Click_Thru'].mean()\n"
   ]
  },
  {
   "cell_type": "code",
   "execution_count": null,
   "metadata": {
    "collapsed": true
   },
   "outputs": [],
   "source": [
    "print nyt_group.agg({\n",
    "    'Click_Thru': ['mean', 'max'],\n",
    "    'Gender': 'mean',\n",
    "})"
   ]
  },
  {
   "cell_type": "code",
   "execution_count": null,
   "metadata": {
    "collapsed": true
   },
   "outputs": [],
   "source": [
    "print nyt[nyt.Signed_In == 1].pivot_table(\n",
    "    values='column_of_ones',\n",
    "    index='Gender',\n",
    "    columns='Age',\n",
    "    aggfunc='count'\n",
    ")"
   ]
  },
  {
   "cell_type": "markdown",
   "metadata": {},
   "source": [
    "Practice:\n",
    "\n",
    "1. Aggregate the mean and standard deviation (std) of Age when Signed_In equals 1\n",
    "2. Find the min values of Age for each value of Impressions\n",
    "3. Find the max values of Clicks for each value of Impressions\n",
    "4. Determine: Are Signed In users more or less likely to click thru on an ad?"
   ]
  },
  {
   "cell_type": "markdown",
   "metadata": {},
   "source": [
    "# Plotting\n",
    "\n",
    "matplotlib's core functionality serves as a plotting tool within python. While calling .describe() on DataFrames is useful to get a rough idea of what your data looks like, plots allow you to visualize what your data really looks like. For today, we'll use matplotlib within the context of pandas.\n",
    "\n",
    "Consider the following data set and code:"
   ]
  },
  {
   "cell_type": "code",
   "execution_count": 80,
   "metadata": {
    "collapsed": false
   },
   "outputs": [
    {
     "data": {
      "text/html": [
       "<div style=\"max-height:1000px;max-width:1500px;overflow:auto;\">\n",
       "<table border=\"1\" class=\"dataframe\">\n",
       "  <thead>\n",
       "    <tr style=\"text-align: right;\">\n",
       "      <th></th>\n",
       "      <th>x</th>\n",
       "      <th>x4</th>\n",
       "      <th>y1</th>\n",
       "      <th>y2</th>\n",
       "      <th>y3</th>\n",
       "      <th>y4</th>\n",
       "    </tr>\n",
       "  </thead>\n",
       "  <tbody>\n",
       "    <tr>\n",
       "      <th>count</th>\n",
       "      <td>11.000000</td>\n",
       "      <td>11.000000</td>\n",
       "      <td>11.000000</td>\n",
       "      <td>11.000000</td>\n",
       "      <td>11.000000</td>\n",
       "      <td>11.000000</td>\n",
       "    </tr>\n",
       "    <tr>\n",
       "      <th>mean</th>\n",
       "      <td>9.000000</td>\n",
       "      <td>9.000000</td>\n",
       "      <td>7.500909</td>\n",
       "      <td>7.500909</td>\n",
       "      <td>7.500000</td>\n",
       "      <td>7.500909</td>\n",
       "    </tr>\n",
       "    <tr>\n",
       "      <th>std</th>\n",
       "      <td>3.316625</td>\n",
       "      <td>3.316625</td>\n",
       "      <td>2.031568</td>\n",
       "      <td>2.031657</td>\n",
       "      <td>2.030424</td>\n",
       "      <td>2.030579</td>\n",
       "    </tr>\n",
       "    <tr>\n",
       "      <th>min</th>\n",
       "      <td>4.000000</td>\n",
       "      <td>8.000000</td>\n",
       "      <td>4.260000</td>\n",
       "      <td>3.100000</td>\n",
       "      <td>5.390000</td>\n",
       "      <td>5.250000</td>\n",
       "    </tr>\n",
       "    <tr>\n",
       "      <th>25%</th>\n",
       "      <td>6.500000</td>\n",
       "      <td>8.000000</td>\n",
       "      <td>6.315000</td>\n",
       "      <td>6.695000</td>\n",
       "      <td>6.250000</td>\n",
       "      <td>6.170000</td>\n",
       "    </tr>\n",
       "    <tr>\n",
       "      <th>50%</th>\n",
       "      <td>9.000000</td>\n",
       "      <td>8.000000</td>\n",
       "      <td>7.580000</td>\n",
       "      <td>8.140000</td>\n",
       "      <td>7.110000</td>\n",
       "      <td>7.040000</td>\n",
       "    </tr>\n",
       "    <tr>\n",
       "      <th>75%</th>\n",
       "      <td>11.500000</td>\n",
       "      <td>8.000000</td>\n",
       "      <td>8.570000</td>\n",
       "      <td>8.950000</td>\n",
       "      <td>7.980000</td>\n",
       "      <td>8.190000</td>\n",
       "    </tr>\n",
       "    <tr>\n",
       "      <th>max</th>\n",
       "      <td>14.000000</td>\n",
       "      <td>19.000000</td>\n",
       "      <td>10.840000</td>\n",
       "      <td>9.260000</td>\n",
       "      <td>12.740000</td>\n",
       "      <td>12.500000</td>\n",
       "    </tr>\n",
       "  </tbody>\n",
       "</table>\n",
       "</div>"
      ],
      "text/plain": [
       "               x         x4         y1         y2         y3         y4\n",
       "count  11.000000  11.000000  11.000000  11.000000  11.000000  11.000000\n",
       "mean    9.000000   9.000000   7.500909   7.500909   7.500000   7.500909\n",
       "std     3.316625   3.316625   2.031568   2.031657   2.030424   2.030579\n",
       "min     4.000000   8.000000   4.260000   3.100000   5.390000   5.250000\n",
       "25%     6.500000   8.000000   6.315000   6.695000   6.250000   6.170000\n",
       "50%     9.000000   8.000000   7.580000   8.140000   7.110000   7.040000\n",
       "75%    11.500000   8.000000   8.570000   8.950000   7.980000   8.190000\n",
       "max    14.000000  19.000000  10.840000   9.260000  12.740000  12.500000"
      ]
     },
     "execution_count": 80,
     "metadata": {},
     "output_type": "execute_result"
    }
   ],
   "source": [
    "anscombe = pd.DataFrame({\n",
    "    'x' :  [10, 8, 13, 9, 11, 14, 6, 4, 12, 7, 5],\n",
    "    'y1' : [8.04, 6.95, 7.58, 8.81, 8.33, 9.96, 7.24, 4.26, 10.84, 4.82, 5.68],\n",
    "    'y2' : [9.14, 8.14, 8.74, 8.77, 9.26, 8.10, 6.13, 3.10, 9.13, 7.26, 4.74],\n",
    "    'y3' : [7.46, 6.77, 12.74, 7.11, 7.81, 8.84, 6.08, 5.39, 8.15, 6.42, 5.73],\n",
    "    'x4' : [8,8,8,8,8,8,8,19,8,8,8],\n",
    "    'y4' : [6.58,5.76,7.71,8.84,8.47,7.04,5.25,12.50,5.56,7.91,6.89],\n",
    "})\n",
    "\n",
    "anscombe.describe()"
   ]
  },
  {
   "cell_type": "markdown",
   "metadata": {},
   "source": [
    "\n",
    "Visually from creating the data frame you can tell the data looks different, yet in the .describe() call, the data shares very similar features. The two primary plotting tools we uses from matplotlib are histograms and scatterplots, which help us understand the shape of data."
   ]
  },
  {
   "cell_type": "code",
   "execution_count": 85,
   "metadata": {
    "collapsed": false
   },
   "outputs": [
    {
     "name": "stdout",
     "output_type": "stream",
     "text": [
      "Axes(0.125,0.125;0.775x0.775)\n",
      "Axes(0.125,0.125;0.775x0.775)\n",
      "Axes(0.125,0.125;0.775x0.775)\n",
      "Axes(0.125,0.125;0.775x0.775)\n"
     ]
    },
    {
     "data": {
      "image/png": "[encoded data removed]",
      "text/plain": [
       "<matplotlib.figure.Figure at 0x7f719f3c88d0>"
      ]
     },
     "metadata": {},
     "output_type": "display_data"
    },
    {
     "data": {
      "image/png": "[encoded data removed]",
      "text/plain": [
       "<matplotlib.figure.Figure at 0x7f719b189850>"
      ]
     },
     "metadata": {},
     "output_type": "display_data"
    },
    {
     "data": {
      "image/png": "[encoded data removed]",
      "text/plain": [
       "<matplotlib.figure.Figure at 0x7f719d1aaed0>"
      ]
     },
     "metadata": {},
     "output_type": "display_data"
    },
    {
     "data": {
      "image/png": "[encoded data removed]",
      "text/plain": [
       "<matplotlib.figure.Figure at 0x7f719f2ec490>"
      ]
     },
     "metadata": {},
     "output_type": "display_data"
    }
   ],
   "source": [
    "%matplotlib inline\n",
    "# above magic allows plots to show in our notebook.\n",
    "\n",
    "for y in ['y1', 'y2', 'y3', 'y4']:\n",
    "    if y != 'y4':\n",
    "        print anscombe.plot(kind='scatter', x='x', y=y)\n",
    "    else:\n",
    "        print anscombe.plot(kind='scatter', x='x4', y=y)"
   ]
  },
  {
   "cell_type": "markdown",
   "metadata": {},
   "source": [
    "Use these new tools in order to visualize some of this New York Times ad performance data."
   ]
  },
  {
   "cell_type": "code",
   "execution_count": 87,
   "metadata": {
    "collapsed": false
   },
   "outputs": [
    {
     "data": {
      "text/plain": [
       "<matplotlib.axes._subplots.AxesSubplot at 0x7f719f0751d0>"
      ]
     },
     "execution_count": 87,
     "metadata": {},
     "output_type": "execute_result"
    },
    {
     "data": {
      "image/png": "[encoded data removed]",
      "text/plain": [
       "<matplotlib.figure.Figure at 0x7f719f393f10>"
      ]
     },
     "metadata": {},
     "output_type": "display_data"
    }
   ],
   "source": [
    "nyt[nyt.Signed_In == 1].Age.hist()\n"
   ]
  },
  {
   "cell_type": "code",
   "execution_count": 88,
   "metadata": {
    "collapsed": false
   },
   "outputs": [
    {
     "name": "stdout",
     "output_type": "stream",
     "text": [
      "Axes(0.125,0.125;0.775x0.775)\n"
     ]
    },
    {
     "data": {
      "image/png": "[encoded data removed]",
      "text/plain": [
       "<matplotlib.figure.Figure at 0x7f719de240d0>"
      ]
     },
     "metadata": {},
     "output_type": "display_data"
    }
   ],
   "source": [
    "print nyt[nyt.Signed_In == 1].Clicks.hist()"
   ]
  },
  {
   "cell_type": "code",
   "execution_count": 90,
   "metadata": {
    "collapsed": false
   },
   "outputs": [
    {
     "data": {
      "text/html": [
       "<div style=\"max-height:1000px;max-width:1500px;overflow:auto;\">\n",
       "<table border=\"1\" class=\"dataframe\">\n",
       "  <thead>\n",
       "    <tr style=\"text-align: right;\">\n",
       "      <th></th>\n",
       "      <th>Age</th>\n",
       "      <th>Gender</th>\n",
       "      <th>Impressions</th>\n",
       "      <th>Clicks</th>\n",
       "      <th>Signed_In</th>\n",
       "      <th>column_of_ones</th>\n",
       "      <th>saw_ad_many_times</th>\n",
       "    </tr>\n",
       "  </thead>\n",
       "  <tbody>\n",
       "    <tr>\n",
       "      <th>count</th>\n",
       "      <td>458441.000000</td>\n",
       "      <td>458441.000000</td>\n",
       "      <td>458441.000000</td>\n",
       "      <td>458441.000000</td>\n",
       "      <td>458441.000000</td>\n",
       "      <td>458441</td>\n",
       "      <td>458441.000000</td>\n",
       "    </tr>\n",
       "    <tr>\n",
       "      <th>mean</th>\n",
       "      <td>29.482551</td>\n",
       "      <td>0.367037</td>\n",
       "      <td>5.007316</td>\n",
       "      <td>0.092594</td>\n",
       "      <td>0.700930</td>\n",
       "      <td>1</td>\n",
       "      <td>0.385127</td>\n",
       "    </tr>\n",
       "    <tr>\n",
       "      <th>std</th>\n",
       "      <td>23.607034</td>\n",
       "      <td>0.481997</td>\n",
       "      <td>2.239349</td>\n",
       "      <td>0.309973</td>\n",
       "      <td>0.457851</td>\n",
       "      <td>0</td>\n",
       "      <td>0.486626</td>\n",
       "    </tr>\n",
       "    <tr>\n",
       "      <th>min</th>\n",
       "      <td>0.000000</td>\n",
       "      <td>0.000000</td>\n",
       "      <td>0.000000</td>\n",
       "      <td>0.000000</td>\n",
       "      <td>0.000000</td>\n",
       "      <td>1</td>\n",
       "      <td>0.000000</td>\n",
       "    </tr>\n",
       "    <tr>\n",
       "      <th>25%</th>\n",
       "      <td>0.000000</td>\n",
       "      <td>0.000000</td>\n",
       "      <td>3.000000</td>\n",
       "      <td>0.000000</td>\n",
       "      <td>0.000000</td>\n",
       "      <td>1</td>\n",
       "      <td>0.000000</td>\n",
       "    </tr>\n",
       "    <tr>\n",
       "      <th>50%</th>\n",
       "      <td>31.000000</td>\n",
       "      <td>0.000000</td>\n",
       "      <td>5.000000</td>\n",
       "      <td>0.000000</td>\n",
       "      <td>1.000000</td>\n",
       "      <td>1</td>\n",
       "      <td>0.000000</td>\n",
       "    </tr>\n",
       "    <tr>\n",
       "      <th>75%</th>\n",
       "      <td>48.000000</td>\n",
       "      <td>1.000000</td>\n",
       "      <td>6.000000</td>\n",
       "      <td>0.000000</td>\n",
       "      <td>1.000000</td>\n",
       "      <td>1</td>\n",
       "      <td>1.000000</td>\n",
       "    </tr>\n",
       "    <tr>\n",
       "      <th>max</th>\n",
       "      <td>108.000000</td>\n",
       "      <td>1.000000</td>\n",
       "      <td>20.000000</td>\n",
       "      <td>4.000000</td>\n",
       "      <td>1.000000</td>\n",
       "      <td>1</td>\n",
       "      <td>1.000000</td>\n",
       "    </tr>\n",
       "  </tbody>\n",
       "</table>\n",
       "</div>"
      ],
      "text/plain": [
       "                 Age         Gender    Impressions         Clicks  \\\n",
       "count  458441.000000  458441.000000  458441.000000  458441.000000   \n",
       "mean       29.482551       0.367037       5.007316       0.092594   \n",
       "std        23.607034       0.481997       2.239349       0.309973   \n",
       "min         0.000000       0.000000       0.000000       0.000000   \n",
       "25%         0.000000       0.000000       3.000000       0.000000   \n",
       "50%        31.000000       0.000000       5.000000       0.000000   \n",
       "75%        48.000000       1.000000       6.000000       0.000000   \n",
       "max       108.000000       1.000000      20.000000       4.000000   \n",
       "\n",
       "           Signed_In  column_of_ones  saw_ad_many_times  \n",
       "count  458441.000000          458441      458441.000000  \n",
       "mean        0.700930               1           0.385127  \n",
       "std         0.457851               0           0.486626  \n",
       "min         0.000000               1           0.000000  \n",
       "25%         0.000000               1           0.000000  \n",
       "50%         1.000000               1           0.000000  \n",
       "75%         1.000000               1           1.000000  \n",
       "max         1.000000               1           1.000000  "
      ]
     },
     "execution_count": 90,
     "metadata": {},
     "output_type": "execute_result"
    }
   ],
   "source": [
    "nyt.describe()"
   ]
  },
  {
   "cell_type": "code",
   "execution_count": 92,
   "metadata": {
    "collapsed": false
   },
   "outputs": [
    {
     "data": {
      "text/plain": [
       "<matplotlib.axes._subplots.AxesSubplot at 0x7f719eec2790>"
      ]
     },
     "execution_count": 92,
     "metadata": {},
     "output_type": "execute_result"
    },
    {
     "data": {
      "image/png": "[encoded data removed]",
      "text/plain": [
       "<matplotlib.figure.Figure at 0x7f719eeb9ed0>"
      ]
     },
     "metadata": {},
     "output_type": "display_data"
    }
   ],
   "source": [
    "nyt['Click_Thru'] = nyt['Clicks'] / nyt['Impressions']\n",
    "nyt[nyt.Signed_In == 1].plot(kind='scatter', x='Age', y='Click_Thru')\n"
   ]
  },
  {
   "cell_type": "markdown",
   "metadata": {},
   "source": [
    "# Independent Practice"
   ]
  },
  {
   "cell_type": "markdown",
   "metadata": {},
   "source": [
    "Practice doing much of the same functionality we did today with two of the four different data sets from the repo above in small groups of 3 or 4.\n",
    "\n",
    "Primarily, your goals are to:\n",
    "\n",
    "* Show how to load a csv file into python\n",
    "* Use pandas to understand the numerical portions of the data\n",
    "* Use matplotlib to visualize the data\n",
    "* Use scikit-learn to fit the data to some dependent feature (y)\n",
    "\n",
    "Summarise your work with the following questions:\n",
    "\n",
    "1. What is the dataset about? What do the columns mean?\n",
    "2. What does the dataset look like?\n",
    "3. What data relationships can you find?\n",
    "4. Given those relationships/correlations, what does that help explain or help you understand about the data?\n",
    "\n",
    "We will come back as a class and have each group present their answers to the above to one of the data sets they explored."
   ]
  },
  {
   "cell_type": "markdown",
   "metadata": {},
   "source": [
    "# Next Steps"
   ]
  },
  {
   "cell_type": "markdown",
   "metadata": {},
   "source": [
    "I encourage you to pick up and start reading the following books to continue learning about programming and data analytics.\n",
    "\n",
    "**Still uncomfortable with Python?**\n",
    "\n",
    "That's okay! Continue practicing your python basics with [Learn Python the Hard Way](http://learnpythonthehardway.org/book/). It'll strengthen your chops. Do it multiple times—you'll keep learning!\n",
    "\n",
    "** Feel like Pandas can revolutionize how you work? **\n",
    "\n",
    "Purchase and read Wes McKinney's [Python for Data Analysis](http://shop.oreilly.com/product/0636920023784.do). It'll get you cranking on everything Wes did with Pandas and why it was designed the way it was.\n",
    "\n",
    "** Want to dig into why Data Science?** \n",
    "\n",
    "Check out Provost and Fawcett's [Data Science for Business](http://www.amazon.com/Data-Science-Business-data-analytic-thinking/dp/1449361323). You'll start understanding more about the business practice of Data Science (vs the academic side) and some fundamentals about algorithm and stats application."
   ]
  }
 ],
 "metadata": {
  "kernelspec": {
   "display_name": "Python 2",
   "language": "python",
   "name": "python2"
  },
  "language_info": {
   "codemirror_mode": {
    "name": "ipython",
    "version": 2
   },
   "file_extension": ".py",
   "mimetype": "text/x-python",
   "name": "python",
   "nbconvert_exporter": "python",
   "pygments_lexer": "ipython2",
   "version": "2.7.6"
  }
 },
 "nbformat": 4,
 "nbformat_minor": 0
}
